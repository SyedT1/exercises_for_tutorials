{
 "cells": [
  {
   "cell_type": "code",
   "execution_count": null,
   "metadata": {},
   "outputs": [],
   "source": [
    "import os\n",
    "import importlib.util\n",
    "import os\n",
    "test_cases_file = os.path.join(\"tests\", \"test1.py\")\n",
    "spec = importlib.util.spec_from_file_location(\"test_cases_module\", test_cases_file)\n",
    "test_cases_module = importlib.util.module_from_spec(spec)\n",
    "spec.loader.exec_module(test_cases_module)\n"
   ]
  },
  {
   "cell_type": "markdown",
   "metadata": {},
   "source": [
    "##### Find the summation of the two numbers and add it to their product  \n",
    "\n",
    "For example,  \n",
    "$ (3 + 2) + (3 * 2) = 11 $ \n",
    "\n",
    "Sample input\n",
    "--------------------  \n",
    "3    \n",
    "\n",
    "2\n",
    "\n",
    "# Sample Output  \n",
    "\n",
    "\n",
    "11    \n"
   ]
  },
  {
   "cell_type": "code",
   "execution_count": null,
   "metadata": {},
   "outputs": [],
   "source": [
    "def calculate_sum_and_add_it_to_product(first:int,second:int):\n",
    "    result = None\n",
    "    return result"
   ]
  },
  {
   "cell_type": "code",
   "execution_count": null,
   "metadata": {},
   "outputs": [],
   "source": [
    "test_cases_module.test_code_practice(calculate_sum_and_add_it_to_product)"
   ]
  },
  {
   "cell_type": "markdown",
   "metadata": {},
   "source": [
    "#### Q1 Find the sum of all the digits in a number from the range (1 - 999)\n",
    "Sample Input 1:\n",
    "------------------------------\n",
    "100\n",
    "\n",
    "Sample Output 1:\n",
    "------------------------------\n",
    "1   \n",
    "\n",
    "\n",
    "Sample Input 2:\n",
    "49\n",
    "\n",
    "Sample Output 2:\n",
    "13"
   ]
  },
  {
   "cell_type": "code",
   "execution_count": null,
   "metadata": {},
   "outputs": [],
   "source": [
    "def calculate_sum_of_digits(number:int) -> int:\n",
    "    # START HERE (write all the code from here)\n",
    "    summation = None\n",
    "    # END HERE \n",
    "    return summation"
   ]
  },
  {
   "cell_type": "code",
   "execution_count": null,
   "metadata": {},
   "outputs": [],
   "source": [
    "test_cases_module.test_code_1(calculate_sum_of_digits)"
   ]
  },
  {
   "cell_type": "markdown",
   "metadata": {},
   "source": [
    "#### Q2 Print the Decimal and Integer part of the number separately\n",
    "\n",
    "Sample Input: \n",
    "----------------------\n",
    "Enter a number: 10.49  \n",
    "\n",
    "\n",
    "Sample Output:  \n",
    "----------------------\n",
    "Integer part: 10  \n",
    "\n",
    "Decimal part: 0.49"
   ]
  },
  {
   "cell_type": "code",
   "execution_count": null,
   "metadata": {},
   "outputs": [],
   "source": [
    "def print_integer_and_decimal_portion(number:float) -> tuple:\n",
    "    # START HERE (write all the code from here)\n",
    "    integer = None\n",
    "    decimal = None\n",
    "    # END HERE \n",
    "    return integer,decimal"
   ]
  },
  {
   "cell_type": "code",
   "execution_count": null,
   "metadata": {},
   "outputs": [],
   "source": [
    "test_cases_module.test_code_2(print_integer_and_decimal_portion)"
   ]
  },
  {
   "cell_type": "markdown",
   "metadata": {},
   "source": [
    "#### Q3  Find the sum of the squares of the digits in the number taken as input\n",
    "For input 123, we get\n",
    "$$\n",
    "1^2 + 2^2 + 3^2 = 14\n",
    "$$\n",
    "\n",
    "Write a code for integers in the range (1 - 999)"
   ]
  },
  {
   "cell_type": "code",
   "execution_count": null,
   "metadata": {},
   "outputs": [],
   "source": [
    "def print_sum_of_squares_of_digits(number:int) -> int:\n",
    "    # START HERE (write all the code from here)\n",
    "    sum_of_squares = None\n",
    "    # END HERE \n",
    "    return sum_of_squares"
   ]
  },
  {
   "cell_type": "code",
   "execution_count": null,
   "metadata": {},
   "outputs": [],
   "source": [
    "test_cases_module.test_code_3(print_sum_of_squares_of_digits)"
   ]
  }
 ],
 "metadata": {
  "kernelspec": {
   "display_name": "Python 3",
   "language": "python",
   "name": "python3"
  },
  "language_info": {
   "codemirror_mode": {
    "name": "ipython",
    "version": 3
   },
   "file_extension": ".py",
   "mimetype": "text/x-python",
   "name": "python",
   "nbconvert_exporter": "python",
   "pygments_lexer": "ipython3",
   "version": "3.10.12"
  }
 },
 "nbformat": 4,
 "nbformat_minor": 2
}
