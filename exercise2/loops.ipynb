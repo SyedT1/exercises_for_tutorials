{
 "cells": [
  {
   "cell_type": "markdown",
   "metadata": {},
   "source": [
    "Heyyy! Remember? That loops have this common structure as below:\n",
    "\n",
    "```py\n",
    "for iterator_variable in sequence_variable:\n",
    "    do something\n",
    "```\n",
    "\n",
    "Here sequence variable can be anything like range(), list etc\n",
    "\n",
    "\n",
    "As our first lesson, we learned to use loop with range() function. Range() function generates a sequence of numbers from start to end-1 an interval of step. Here, we can use 3 parameters at most.\n",
    "structure ta erokom.\n",
    "```py\n",
    "for i in range(start,end,step):\n",
    "    do something\n",
    "```\n",
    "\n",
    " \n",
    "\n",
    "\n",
    "Jodi 1 ta parameter use kori amra. tahole seita end parameter hishebe dhore ney. and start = 0 thaake by default ar step thaake 1 by default. jemon ta niche 10 hocche end parameter\n",
    "```py\n",
    "for i in range(10):\n",
    "    do something\n",
    "```\n"
   ]
  },
  {
   "cell_type": "code",
   "execution_count": 1,
   "metadata": {},
   "outputs": [
    {
     "name": "stdout",
     "output_type": "stream",
     "text": [
      "0\n",
      "1\n",
      "2\n",
      "3\n",
      "4\n",
      "5\n",
      "6\n",
      "7\n",
      "8\n",
      "9\n"
     ]
    }
   ],
   "source": [
    "# Run this cell to check \n",
    "for i in range(10):\n",
    "    print(i) # prints 0 upto 9 in every new line"
   ]
  },
  {
   "cell_type": "markdown",
   "metadata": {},
   "source": [
    "```py\n",
    "for i in range(1,10):\n",
    "    print(i)\n",
    "```\n",
    "\n",
    "Uporer example ta jodi dekhen. ekhane jokhon 2 ta parameter pathano hocche, ekhane start = 1  ar end = 10 hishebe range() function eitake dhore nicche. ar by default step=1 e thakche. so, ei code ta run korle print korbe 1 theke 9 porjonto"
   ]
  },
  {
   "cell_type": "code",
   "execution_count": 2,
   "metadata": {},
   "outputs": [
    {
     "name": "stdout",
     "output_type": "stream",
     "text": [
      "1\n",
      "2\n",
      "3\n",
      "4\n",
      "5\n",
      "6\n",
      "7\n",
      "8\n",
      "9\n"
     ]
    }
   ],
   "source": [
    "for i in range(1,10):\n",
    "    print(i)"
   ]
  },
  {
   "cell_type": "markdown",
   "metadata": {},
   "source": [
    "F-String Revision:\n",
    "\n",
    "```py\n",
    "    for i in range(10):\n",
    "        print(f'anything you want to print. this line has been printed {i+1} times')\n",
    "```\n",
    "Uporer jei example ta ache, ota jodi ekbar dekhen - double quote to achei sathe ekta f ache string er baire. eitake f string bole. ar jei third bracket enclosed dekhchen {} eita placeholder. ekhane variable ta rakhle, oitar value\n",
    "print korar time e jei particular jaigay ache placeholder ta shekhane print hobe."
   ]
  },
  {
   "cell_type": "code",
   "execution_count": 5,
   "metadata": {},
   "outputs": [
    {
     "name": "stdout",
     "output_type": "stream",
     "text": [
      "anything you want to print. this line has been printed 1 times\n",
      "anything you want to print. this line has been printed 2 times\n",
      "anything you want to print. this line has been printed 3 times\n",
      "anything you want to print. this line has been printed 4 times\n",
      "anything you want to print. this line has been printed 5 times\n",
      "anything you want to print. this line has been printed 6 times\n",
      "anything you want to print. this line has been printed 7 times\n",
      "anything you want to print. this line has been printed 8 times\n",
      "anything you want to print. this line has been printed 9 times\n",
      "anything you want to print. this line has been printed 10 times\n"
     ]
    }
   ],
   "source": [
    "for i in range(10):\n",
    "    print(f'anything you want to print. this line has been printed {i+1} times')"
   ]
  },
  {
   "cell_type": "markdown",
   "metadata": {},
   "source": [
    "using end and sep:\n",
    "\n",
    "```py\n",
    "print(*objects, sep=something, end=something)\n",
    "```\n",
    "Well, eita aste aste explain korbo as we progress forward. \n",
    "\n",
    "```py\n",
    "for i in range(1,10):\n",
    "    print(i)\n",
    "```\n",
    "\n",
    "\n",
    "Uporer ei example ta dekha jay je 1 theke 9 prjnto print kore in separate lines. jemon  \n",
    "1     \n",
    "2     \n",
    "3   \n",
    "4  \n",
    "5  \n",
    "6  \n",
    "7  \n",
    "8  \n",
    "9  \n",
    "\n",
    "Now, closely observe korle, end er value hishebe by default '\\n' use kora hocche. \n",
    "```py\n",
    "for i in range(1,10):\n",
    "    print(i,end='\\n')\n",
    "```"
   ]
  },
  {
   "cell_type": "code",
   "execution_count": 6,
   "metadata": {},
   "outputs": [
    {
     "name": "stdout",
     "output_type": "stream",
     "text": [
      "1\n",
      "2\n",
      "3\n",
      "4\n",
      "5\n",
      "6\n",
      "7\n",
      "8\n",
      "9\n"
     ]
    }
   ],
   "source": [
    "for i in range(1,10):\n",
    "    print(i,end='\\n')"
   ]
  },
  {
   "cell_type": "markdown",
   "metadata": {},
   "source": [
    "Got this? Ekhon amra ei jinishta always chabona. sometimes we might want the numbers to get printed\n",
    "in the same line separated by spaces.\n",
    "```py\n",
    "for i in range(1,10):\n",
    "    print(i,end=' ')\n",
    "```\n",
    "upore end equal to empty space daway, print korar time e every line will end with an empty space.\n",
    "dekhte beparta kemon hobe?   \n",
    "  \n",
    "\n",
    "To check that, Run the code below"
   ]
  },
  {
   "cell_type": "code",
   "execution_count": 7,
   "metadata": {},
   "outputs": [
    {
     "name": "stdout",
     "output_type": "stream",
     "text": [
      "1 2 3 4 5 6 7 8 9 "
     ]
    }
   ],
   "source": [
    "for i in range(1,10):\n",
    "    print(i,end=' ')"
   ]
  },
  {
   "cell_type": "markdown",
   "metadata": {},
   "source": [
    "Now, if i want to end every line with a comma  tahole end=',' diye dekhi je"
   ]
  },
  {
   "cell_type": "code",
   "execution_count": 8,
   "metadata": {},
   "outputs": [
    {
     "name": "stdout",
     "output_type": "stream",
     "text": [
      "1,2,3,4,5,6,7,8,9,"
     ]
    }
   ],
   "source": [
    "for i in range(1,10):\n",
    "    print(i,end=',')"
   ]
  },
  {
   "cell_type": "markdown",
   "metadata": {},
   "source": [
    "Now comes the sep parameter. eta kokhon kaje lage?  \n",
    "When we want to print multiple values in a single line. jemon.  \n",
    "### lets print all the numbers and their squares from 1 to n, side by side in new lines \n",
    "like:  \n",
    "1,1  \n",
    "2,4  \n",
    "3,9  \n",
    "..\n",
    "..  \n",
    "ei khetre jekha jacche je prottekta value ar tar squared form pashapashi comma diye separated hoye new line e print hocche\n",
    "\n",
    "```py\n",
    "for i in range(1,10):\n",
    "    print(i,i**2,sep=',',end='\\n')\n",
    "```"
   ]
  },
  {
   "cell_type": "code",
   "execution_count": 9,
   "metadata": {},
   "outputs": [
    {
     "name": "stdout",
     "output_type": "stream",
     "text": [
      "1,1\n",
      "2,4\n",
      "3,9\n",
      "4,16\n",
      "5,25\n",
      "6,36\n",
      "7,49\n",
      "8,64\n",
      "9,81\n"
     ]
    }
   ],
   "source": [
    "for i in range(1,10):\n",
    "    print(i,i**2,sep=',',end='\\n')"
   ]
  },
  {
   "cell_type": "markdown",
   "metadata": {},
   "source": [
    "# upore f string use kora hoyni jehetu ei problem tay ami sep and end er usage dekhiyechi to imply the following usage\n",
    "```py\n",
    "print(*objects, sep=something, end=something)\n",
    "```\n",
    "ekhane multiple objects apni print korar jonno dite paren, followed by the values that should separate them from each other and must end with something that you are defining them with\n",
    "\n",
    "\n",
    "\n",
    "```py\n",
    "print('hello','Bhaia',sep=',',end='.')\n",
    "```\n",
    "ekhane 2 ta string objects er jaigay jacche. and sep er parameter e comma thakay hello ar bhaiya ei duitar majhe\n",
    "ekta comma thakbe. Lastly, end=full stop use koray shobar sesh e . thakbe."
   ]
  },
  {
   "cell_type": "code",
   "execution_count": 11,
   "metadata": {},
   "outputs": [
    {
     "name": "stdout",
     "output_type": "stream",
     "text": [
      "hello,bhaiya."
     ]
    }
   ],
   "source": [
    "print('hello','bhaiya',sep=',',end='.')"
   ]
  },
  {
   "cell_type": "markdown",
   "metadata": {},
   "source": [
    "# abaro f string chara print function e koyekta examples dicchi\n",
    "\n",
    "```py\n",
    "print('hello','bhaiya','kemon','achen',sep=' ',end='.')\n",
    "```\n",
    "\n",
    "eita run korle paben:-  \n",
    "hello bhaiya kemon achen.  \n",
    "karon, i used whitespace for sep parameter and '.' for ending the print statement  \n",
    "\n",
    "\n",
    "\n",
    "again. u can use multiple objects of different type in print statement\n",
    "```py\n",
    "n = 10\n",
    "print(1,2,3,n,'how','is','your','day',sep=' ',end='?')\n",
    "```\n",
    "uporer example tay dekha jacche je, ekhane string types and int types ache and they are all separated by\n",
    "a whitespace and also ends with ? mark. run kore dekhte paren niche."
   ]
  },
  {
   "cell_type": "code",
   "execution_count": 12,
   "metadata": {},
   "outputs": [
    {
     "name": "stdout",
     "output_type": "stream",
     "text": [
      "1 2 3 10 how is your day?"
     ]
    }
   ],
   "source": [
    "n = 10\n",
    "print(1,2,3,n,'how','is','your','day',sep=' ',end='?')"
   ]
  },
  {
   "cell_type": "markdown",
   "metadata": {},
   "source": [
    "# Kichu exercise solve korar time!!\n",
    "## Problem Statement 1\n",
    "+ Print square of numbers upto n that is separated by commas\n",
    "\n",
    "\n",
    "    Sample Input 1:\n",
    "    ---------------\n",
    "    4\n",
    "\n",
    "    Sample Output 1:\n",
    "    ---------------\n",
    "    1,4,9,16,\n",
    "\n",
    "    ###############################\n",
    "\n",
    "    Sample Input 2:\n",
    "    ---------------\n",
    "    10\n",
    "\n",
    "    Sample Output 2:\n",
    "    ---------------\n",
    "    1,4,9,16,\n",
    "\n",
    "# Problem Statement 2\n",
    "+ Print numbers divisible by 3 upto n and that is separated by commas \n",
    "\n",
    "    Sample Input 1:\n",
    "    ---------------\n",
    "    4\n",
    "\n",
    "\n",
    "    Sample Output 1:\n",
    "    ----------------\n",
    "    3,\n",
    "\n",
    "\n",
    "    Sample Input 2:\n",
    "    ----------------\n",
    "    10\n",
    "\n",
    "    Sample Output 2:\n",
    "    ----------------\n",
    "    3,6,9,\n",
    "\n",
    "\n",
    "\n",
    "    "
   ]
  },
  {
   "cell_type": "code",
   "execution_count": null,
   "metadata": {},
   "outputs": [],
   "source": [
    "# Solve Problem Statement 1 here"
   ]
  },
  {
   "cell_type": "code",
   "execution_count": null,
   "metadata": {},
   "outputs": [],
   "source": [
    "# Solve Problem Statement 2 here"
   ]
  },
  {
   "cell_type": "markdown",
   "metadata": {},
   "source": [
    "# Ebar while statement niye kaj korbo amra. What is while loop?\n",
    "\n",
    "\n",
    "while loop er structure ta erokom:\n",
    "```py\n",
    "while <condition>:\n",
    "    something\n",
    "```\n",
    "\n",
    "for example:\n",
    "Jotokkhon garite fuel ache, totokkhon you can drive the car... \n",
    "```py\n",
    "while fuel_amount > 0:\n",
    "    drive_car()\n",
    "```\n",
    "\n",
    "\n",
    "Abar, dhoren sharadin kichui khawa hoyni. So, you can eat until your tummy is filled up. while loop depends on your ability. and shobai beshi khete parena. \n",
    "```py\n",
    "while pet_e_jaiga_ache:\n",
    "    eat()\n",
    "```\n",
    "\n",
    "\n",
    "\n",
    "## So beparta hocche. you use while loop when you're in a situation where you want to be control the entire time of the operation\n",
    "\n",
    "\n",
    "\n",
    "![](https://upload.wikimedia.org/wikipedia/commons/7/78/Traquair_House_Maze.jpg)\n",
    "\n",
    "I know dekhte bhoyonkor lagche. no.. i dont wanna make it that uncomfortable. But, just imagine if anyone gets stuck here. Say a robot!  \n",
    "What shall the robot do?  \n",
    "__While loop__ **comes to help!!**\n",
    "\n",
    "```py\n",
    "while entrance_is_not_reached:\n",
    "    if you_can_go_front():\n",
    "        go_front()\n",
    "    elif you_can_go_back():\n",
    "        go_back()\n",
    "    elif you_can_go_left():\n",
    "        go_left()\n",
    "    elif you_can_go_right():\n",
    "        go_right()\n",
    "```\n",
    "\n",
    "See? Eirokom situation e you don't know the exact number of steps to reach the destination.. Eijonno while loop ta kaje lagche"
   ]
  },
  {
   "cell_type": "markdown",
   "metadata": {},
   "source": [
    "# Example Problem\n",
    "## Print values from 2 upto n until is not divisible by 2,3,5 or 7\n",
    "Now you need an approach such that you can print values upto a certain point where the condition doesnt meet.  \n",
    "```py\n",
    "# the first step is initializing a variable with the value 2 . Since i asked in the question je it must start from 2. \n",
    "# 2ndly the value has to be stored in a variable outside while loop\n",
    "i = 2\n",
    "while i%2 == 0 or i%3==0 or i%4==0 or i%7==0:\n",
    "    print(i)\n",
    "    # in each iteration increase the value of i by 1. nahole it will never progress. and you will get stuck in an infinite loop\n",
    "    i = i + 1\n",
    "```\n"
   ]
  },
  {
   "cell_type": "code",
   "execution_count": 16,
   "metadata": {},
   "outputs": [
    {
     "name": "stdout",
     "output_type": "stream",
     "text": [
      "2\n",
      "3\n",
      "4\n",
      "5\n",
      "6\n",
      "7\n",
      "8\n",
      "9\n",
      "10\n"
     ]
    }
   ],
   "source": [
    "i = 2\n",
    "while i%2 == 0 or i % 3 == 0 or i % 5 == 0 or i % 7 == 0:\n",
    "    print(i)\n",
    "    i = i + 1"
   ]
  },
  {
   "cell_type": "markdown",
   "metadata": {},
   "source": [
    "#### Loop ta break korlo tokhon e jokhon the value of i became 11.\n",
    "### 11 is not divisible by 2,3,5 or 7"
   ]
  },
  {
   "cell_type": "markdown",
   "metadata": {},
   "source": [
    "# Ebar nested for loop niye alochona kori\n",
    "it looks like this\n",
    "\n",
    "### Structure of nested for loops\n",
    "```py\n",
    "for variable in condition:\n",
    "    for variable2 in condition2:\n",
    "        for variable3 in condition3:\n",
    "            .......\n",
    "            ....\n",
    "            and so on\n",
    "```\n",
    "\n",
    "\n",
    "It you asked me about the necessary of nested for loops, here is the first problem. Problem er jonnoi this concept\n",
    "is relevant. So problem ta holo... print the divisors of numbers upto n\n",
    "\n",
    "Sample Input 1:  \n",
    "---------------  \n",
    "4\n",
    "\n",
    "Sample Output 1:  \n",
    "----------------  \n",
    "1,  \n",
    "1,2,  \n",
    "1,3,  \n",
    "1,2,4  \n",
    "\n",
    "\n",
    "the only thing that comes to  my mind is this:\n",
    "```py\n",
    "\n",
    "# Ei first for loop jeita i er, for every iteration j loop n times cholbe. for example: i = 1 jokhon hobe. j cholbe 1 to n porjonto. \n",
    "# Abar i = 2 jokhon hobe, j cholbe 1 to n porjonto..\n",
    "# this will go on until i = 4. \n",
    "for i in range(1,n+1):\n",
    "    for j in range(1,n+1):\n",
    "        # for example: when i will be 2 . j loop or this 2nd loop will iterate from 1 to n to check je. 2 ki 1,2,3,4 dara divisible kina. divisible hoilei print korbe \n",
    "        if i%j==0:\n",
    "            print(j,end=',')\n",
    "    print()\n",
    "```\n"
   ]
  },
  {
   "cell_type": "code",
   "execution_count": 19,
   "metadata": {},
   "outputs": [
    {
     "name": "stdout",
     "output_type": "stream",
     "text": [
      "1,\n",
      "1,2,\n",
      "1,3,\n",
      "1,2,4,\n"
     ]
    }
   ],
   "source": [
    "n = 4\n",
    "for i in range(1,n+1):\n",
    "    for j in range(1,n+1):\n",
    "        if i%j==0:\n",
    "            print(j,end=',')\n",
    "    print()"
   ]
  },
  {
   "cell_type": "code",
   "execution_count": null,
   "metadata": {},
   "outputs": [],
   "source": []
  }
 ],
 "metadata": {
  "kernelspec": {
   "display_name": "Python 3",
   "language": "python",
   "name": "python3"
  },
  "language_info": {
   "codemirror_mode": {
    "name": "ipython",
    "version": 3
   },
   "file_extension": ".py",
   "mimetype": "text/x-python",
   "name": "python",
   "nbconvert_exporter": "python",
   "pygments_lexer": "ipython3",
   "version": "3.11.6"
  }
 },
 "nbformat": 4,
 "nbformat_minor": 2
}
