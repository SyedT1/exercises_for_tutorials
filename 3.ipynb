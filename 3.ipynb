{
 "cells": [
  {
   "cell_type": "code",
   "execution_count": 2,
   "metadata": {},
   "outputs": [
    {
     "data": {
      "text/plain": [
       "1"
      ]
     },
     "execution_count": 2,
     "metadata": {},
     "output_type": "execute_result"
    }
   ],
   "source": [
    "# function dui dhoroner\n",
    "# kichu ekta return korbe\n",
    "# kichu ekta return korbena\n",
    "\n",
    "def check_if_its_even(x):\n",
    "    if x%2 == 0:\n",
    "        print('its an even number')\n",
    "        return\n",
    "    \n",
    "    print('its an odd number')\n",
    "\n",
    "\n",
    "def find_remainder(x):\n",
    "    return x % 2\n",
    "\n",
    "\n",
    "\n",
    "# check_if_its_even(10)\n",
    "find_remainder(5)"
   ]
  },
  {
   "cell_type": "code",
   "execution_count": 7,
   "metadata": {},
   "outputs": [
    {
     "ename": "TypeError",
     "evalue": "'tuple' object does not support item assignment",
     "output_type": "error",
     "traceback": [
      "\u001b[0;31m---------------------------------------------------------------------------\u001b[0m",
      "\u001b[0;31mTypeError\u001b[0m                                 Traceback (most recent call last)",
      "Cell \u001b[0;32mIn [7], line 3\u001b[0m\n\u001b[1;32m      1\u001b[0m y \u001b[38;5;241m=\u001b[39m (\u001b[38;5;241m1\u001b[39m,\u001b[38;5;241m2\u001b[39m,\u001b[38;5;241m3\u001b[39m,\u001b[38;5;241m4\u001b[39m)\n\u001b[1;32m      2\u001b[0m \u001b[38;5;66;03m# immutable type\u001b[39;00m\n\u001b[0;32m----> 3\u001b[0m \u001b[43my\u001b[49m\u001b[43m[\u001b[49m\u001b[38;5;241;43m0\u001b[39;49m\u001b[43m]\u001b[49m \u001b[38;5;241m=\u001b[39m \u001b[38;5;124m'\u001b[39m\u001b[38;5;124mhello\u001b[39m\u001b[38;5;124m'\u001b[39m\n",
      "\u001b[0;31mTypeError\u001b[0m: 'tuple' object does not support item assignment"
     ]
    }
   ],
   "source": [
    "y = (1,2,3,4)\n",
    "# immutable type\n",
    "# y[0] = 'hello'"
   ]
  },
  {
   "cell_type": "code",
   "execution_count": 16,
   "metadata": {},
   "outputs": [],
   "source": [
    "def function(x):\n",
    "    if x % 2 == 1:\n",
    "        return x,x**2\n",
    "    return x\n",
    "    # for i in range(10):\n",
    "    #     print('hello')\n",
    "    # print('hello')"
   ]
  },
  {
   "cell_type": "code",
   "execution_count": 18,
   "metadata": {},
   "outputs": [
    {
     "data": {
      "text/plain": [
       "10"
      ]
     },
     "execution_count": 18,
     "metadata": {},
     "output_type": "execute_result"
    }
   ],
   "source": [
    "function(10)"
   ]
  },
  {
   "cell_type": "code",
   "execution_count": 15,
   "metadata": {},
   "outputs": [
    {
     "name": "stdout",
     "output_type": "stream",
     "text": [
      "h e l l o\n",
      "h e l l o\n"
     ]
    }
   ],
   "source": [
    "print('h','e','l','l','o')\n",
    "print('h','e','l','l','o',sep=' ')\n"
   ]
  },
  {
   "cell_type": "code",
   "execution_count": null,
   "metadata": {},
   "outputs": [],
   "source": [
    "function(2)"
   ]
  },
  {
   "cell_type": "code",
   "execution_count": 5,
   "metadata": {},
   "outputs": [
    {
     "name": "stdout",
     "output_type": "stream",
     "text": [
      "['hello', 2, 3, 4]\n"
     ]
    }
   ],
   "source": [
    "x = [1,2,3,4]\n",
    "# mutable type\n",
    "x[0] = 'hello'\n",
    "print(x)"
   ]
  },
  {
   "cell_type": "code",
   "execution_count": null,
   "metadata": {},
   "outputs": [],
   "source": [
    "# # # #\n",
    "* * * *\n",
    "# # # #\n",
    "* * * *\n",
    "\n",
    "# when input is 4. an even number\n",
    "\n",
    "# #\n",
    "* *\n",
    "# when input is 2\n",
    "\n",
    "\n",
    "# # # # # #\n",
    "* * * * * *\n",
    "# # # # # #\n",
    "* * * * * *\n",
    "# # # # # #\n",
    "* * * * * *\n",
    "\n",
    "\n",
    "# when input is 5 (an odd number)\n",
    " \n",
    "# # # # #\n",
    "# # # # #\n",
    "# # # # #\n",
    "# # # # #\n",
    "# # # # #"
   ]
  },
  {
   "cell_type": "code",
   "execution_count": 1,
   "metadata": {},
   "outputs": [
    {
     "name": "stdout",
     "output_type": "stream",
     "text": [
      "*\n",
      "**\n",
      "***\n",
      "****\n"
     ]
    }
   ],
   "source": [
    "def print_stars(x):\n",
    "    print(x * '*')\n",
    "\n",
    "n = int(input())\n",
    "\n",
    "for i in range(1,n+1):\n",
    "    print_stars(i)\n",
    "\n",
    "\n",
    "\n",
    "# *\n",
    "# **\n",
    "# ***\n",
    "# ****"
   ]
  },
  {
   "cell_type": "code",
   "execution_count": 34,
   "metadata": {},
   "outputs": [
    {
     "data": {
      "text/plain": [
       "[1, 2, 3, 4, 5, 6, 7, 8, 9]"
      ]
     },
     "execution_count": 34,
     "metadata": {},
     "output_type": "execute_result"
    }
   ],
   "source": [
    "list(range(1,10))"
   ]
  },
  {
   "cell_type": "code",
   "execution_count": null,
   "metadata": {},
   "outputs": [],
   "source": []
  },
  {
   "cell_type": "code",
   "execution_count": null,
   "metadata": {},
   "outputs": [],
   "source": [
    "# break vs return"
   ]
  },
  {
   "cell_type": "code",
   "execution_count": 53,
   "metadata": {},
   "outputs": [],
   "source": [
    "def prime(x):\n",
    "    if x < 2:\n",
    "        return False\n",
    "    is_prime = True\n",
    "    for i in range(2,x):\n",
    "        if x % i == 0:\n",
    "            is_prime = False\n",
    "            print(f'the number is divisible by {i}')\n",
    "            break\n",
    "    # if you want to do further calculation \n",
    "    if x % 5 == 0:\n",
    "        print('the number is also divisible by 5')\n",
    "    return True if is_prime == True else False\n",
    "\n"
   ]
  },
  {
   "cell_type": "code",
   "execution_count": 74,
   "metadata": {},
   "outputs": [
    {
     "name": "stdout",
     "output_type": "stream",
     "text": [
      "the number is divisible by 2\n",
      "0.00013899803161621094\n"
     ]
    }
   ],
   "source": [
    "import time\n",
    "t = time.time()\n",
    "prime(10**7+4)\n",
    "print(time.time()-t)\n",
    "# 5 porjonto giye ar gelona"
   ]
  },
  {
   "cell_type": "code",
   "execution_count": null,
   "metadata": {},
   "outputs": [],
   "source": [
    "0.0002\n",
    "# 10^7 + 19 = 0.33\n",
    "# 10^7 + 4 = 0.001"
   ]
  },
  {
   "cell_type": "code",
   "execution_count": 77,
   "metadata": {},
   "outputs": [
    {
     "name": "stdout",
     "output_type": "stream",
     "text": [
      "4\n",
      "5\n",
      "6\n"
     ]
    }
   ],
   "source": [
    "def function(a,b):\n",
    "    if a % b == 0:\n",
    "        return\n",
    "    \n",
    "\n",
    "    for i in range(a,b+1):\n",
    "        print(i)\n",
    "\n",
    "function(4,6)"
   ]
  },
  {
   "cell_type": "code",
   "execution_count": 81,
   "metadata": {},
   "outputs": [],
   "source": [
    "def playing(song):\n",
    "    print('playing '+song )\n",
    "\n",
    "\n",
    "\n",
    "def play_song(song_name='Coldplay-Stars.mp3'):\n",
    "    playing(song_name)"
   ]
  },
  {
   "cell_type": "code",
   "execution_count": 84,
   "metadata": {},
   "outputs": [
    {
     "name": "stdout",
     "output_type": "stream",
     "text": [
      "playing abcd.mp3\n"
     ]
    }
   ],
   "source": [
    "play_song(song_name='abcd.mp3')"
   ]
  },
  {
   "cell_type": "code",
   "execution_count": 85,
   "metadata": {},
   "outputs": [],
   "source": [
    "def calculator(a,b,operation='+'):\n",
    "    if operation == '+':\n",
    "        print(a+b)\n",
    "    elif operation == '-':\n",
    "        print(a-b)\n",
    "    elif operation == '*':\n",
    "        print(a*b)\n",
    "    else:\n",
    "        print('invalid operator')\n",
    "\n"
   ]
  },
  {
   "cell_type": "code",
   "execution_count": 93,
   "metadata": {},
   "outputs": [
    {
     "name": "stdout",
     "output_type": "stream",
     "text": [
      "2225\n"
     ]
    }
   ],
   "source": [
    "calculator(2222,3)"
   ]
  },
  {
   "cell_type": "code",
   "execution_count": 96,
   "metadata": {},
   "outputs": [
    {
     "data": {
      "text/plain": [
       "4"
      ]
     },
     "execution_count": 96,
     "metadata": {},
     "output_type": "execute_result"
    }
   ],
   "source": [
    "def f():\n",
    "    return 2,3,4,5,56,66666\n",
    "\n",
    "def g():\n",
    "    return 4\n",
    "\n",
    "\n",
    "g()"
   ]
  }
 ],
 "metadata": {
  "kernelspec": {
   "display_name": "Python 3",
   "language": "python",
   "name": "python3"
  },
  "language_info": {
   "codemirror_mode": {
    "name": "ipython",
    "version": 3
   },
   "file_extension": ".py",
   "mimetype": "text/x-python",
   "name": "python",
   "nbconvert_exporter": "python",
   "pygments_lexer": "ipython3",
   "version": "3.11.2"
  }
 },
 "nbformat": 4,
 "nbformat_minor": 2
}
